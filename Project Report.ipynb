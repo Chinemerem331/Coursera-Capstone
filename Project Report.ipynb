{
 "cells": [
  {
   "cell_type": "markdown",
   "metadata": {},
   "source": [
    "## Report on Recommender System for a Restaurant in East Toronto"
   ]
  },
  {
   "cell_type": "markdown",
   "metadata": {},
   "source": [
    "**1. EXECUTIVE SUMMARY**\n",
    "\n",
    "Restaurants require early customers to survive. This is because of their heavy need for perishable groceries. Due to competition, these firms thrive by buying rice, cabbage, carrot, chicken and many other items in bulk in order to keep cost of production at minimum. Hence, restaurants cherish good locations as it is a necessity for their survival. In this project, a recommender system was built to find the best site in East Toronto using K-Means machine learning algorithm. Locational data was obtained from the client while data as regards venues were obtained from Foursquare. The best recommended location is Business reply mail Processing Centre, South Central Letter Processing Plant Toronto.\n"
   ]
  },
  {
   "cell_type": "markdown",
   "metadata": {},
   "source": [
    "**2. PROBLEM DESCRIPTION**\n",
    "\n",
    "The problem statement is to provide best location recommendations to a restaurant in one of the boroughs of Toronto, Canada, East Borough. The restaurant intends to maximize customer awareness of existing venues. If the right locaion is chosen, there will be more chances of patronage as the restaurant opens so that the break-even timeline is minimized and to guarantee survival for the business at it's early stage.\n",
    "\n",
    "Typically for a restaurant, early patronage from kick-off of business is almost all that is required to survive. For example, if the fast food is located in an environment with less concentration of exciting spots, it is less likely to have patronage for a period of time and because it has several liabilities to meet, including rent, the company will likely go bankrupt before it breaks even. However, if the reverse is the case, the company will have an assurance of survival. \n",
    "\n",
    "The company has to establish this branch where it is accessible to its customers. This will in turn minimize the cost of advertisement to create awareness since the food company in order to minimize the cost of transpotation in addition to the example above. which neighborhood (in that borough) would be a better choice for the contractor to build the warehouse in that neighborhood. Finding the right neighborhood is our mission and our recommender system will provide this contractor with a sorted list of neighborhoods in which the first element of the list will be the best suggested neighborhood.\n"
   ]
  },
  {
   "cell_type": "markdown",
   "metadata": {},
   "source": [
    "**3. Data**\n",
    "\n",
    "1- The client provides geo-locational information about East Toronto, which is a borough of choice and the neighborhoods in that borough. It contains it's latitudes and longitudes. We will also utilize the postal codes that fall into that Borough.\n",
    "\n",
    "\n",
    "2- It will be needful to leverage  Foursquare to pull data on existing venues around East Toronto. This data will provide us with information on Latitudes, Longitudes, venues, category of the venue (Cafe, Coffee shop, Breakfast spot etc.) and even on whether the venue is popular or not. Since this data will be available for each venue, we can drill down as much as possible to obtain any other extra information we require so as to make the best recommendations to our client.\n",
    "\n",
    "*Here is a sample of data obtained from Foursquare:*\n",
    "\n",
    "[Neighborhood(s)] [Neighborhood Latitude] [Neighborhood Longitude] [Venue] [Venue Summary] [Venue Category] [Distance (meter)]\n",
    "\n",
    "[The Beaches] [43.676357] [-79.293031] [Glen Manor Ravine] [This spot is popular] [Trail] [500]\n",
    "\n",
    "We will utilize this data in building the recommender system for our client.\n"
   ]
  },
  {
   "cell_type": "markdown",
   "metadata": {},
   "source": [
    "**4. Data wrangling and preprocessing**\n",
    "\n",
    "After data collection, wrangling is done on that raw data to find desirable features for each venue. The main feature is the category of that venue. After this stage, the column \"Venue's Category\" will be One-hot encoded and different venues will have different feature-columns.\n",
    "\n",
    "After One-hot encoding, integration of all restaurant columns to one column \"Total Restaurants\" and all food joint columns is done.\n",
    "\n",
    "As the data was grouped by neighborhoods, it was observed that there are actually 4 unique neighborhoods with venues \n",
    "that offer food and drinks related services. Hence, The Danforth West, Riverdale neighborhood didn't make it to the list.\n",
    "\n",
    "Also, as the data was summed across columns using a new column 'Total', it was observed that there are equal number of venues returned by Foursquare API for other neighborhoods except for Business reply mail Processing Centre. This suggests that the machine learning algorithm will return two clusters.\n",
    "\n",
    " The data was pre-processed to give it a uniform scale. Now, the dataset is fully ready to be used for machine learning."
   ]
  },
  {
   "cell_type": "markdown",
   "metadata": {},
   "source": [
    "**5. MACHINE LEARNING**\n",
    "\n",
    "Algorithm Used: k-means clustering method. Four clusters were chosen in line with the number of available neighborhoods. After clustering, dataset is updated and a column representing the group for each neighborhood is created"
   ]
  },
  {
   "cell_type": "markdown",
   "metadata": {},
   "source": [
    "6. RESULTS\n",
    "The cluster centers from the machine learning algorithm were compared for their \"Total\" and the one neighborhood was recommended. **South Central Letter Processing Plant Toronto** is the best one with 234 venues was chosen. This neighborhood has 36 restaurants and 198 other food venues, snacks joints and beverage spots.\n",
    "\n",
    "The below is the neighborhood location:\n",
    "\n",
    "{'Postal Code': 'M7Y',\n",
    " 'Borough': 'East Toronto',\n",
    " 'Neighborhood': 'Business reply mail Processing Centre, South Central Letter Processing Plant Toronto',\n",
    " 'Latitude': 43.6627439}\n"
   ]
  }
 ],
 "metadata": {
  "kernelspec": {
   "display_name": "Python",
   "language": "python",
   "name": "conda-env-python-py"
  },
  "language_info": {
   "codemirror_mode": {
    "name": "ipython",
    "version": 3
   },
   "file_extension": ".py",
   "mimetype": "text/x-python",
   "name": "python",
   "nbconvert_exporter": "python",
   "pygments_lexer": "ipython3",
   "version": "3.6.10"
  }
 },
 "nbformat": 4,
 "nbformat_minor": 4
}
