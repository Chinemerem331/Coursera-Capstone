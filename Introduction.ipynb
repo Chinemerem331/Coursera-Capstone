{
 "cells": [
  {
   "cell_type": "markdown",
   "metadata": {},
   "source": [
    "## A RECOMMENDER SYSTEM FOR A RESTAURANT"
   ]
  },
  {
   "cell_type": "markdown",
   "metadata": {},
   "source": [
    "### Problem Statement\n",
    "A fast food company wants to expand into East Toronto Canada. This restaurant intends to penetrate the region by leveraging the presence of existing Restaurants, Bakery, Breakfast Spot, Brewery and Café to gain customers. Since the restaurant is confident of deploying her unique selling points to  drive sales in addition to having the capability to prepare intercontinental dishes, she is confident on the chances of success if located in the right environment.\n",
    "\n",
    "Typically for a restaurant, early patronage from kick-off of business is almost all that is required to survive. For example, if the fast food is located in an environment with less concentration of exciting spots, it is less likely to have patronage for a period of time and because it has several liabilities to meet, including rent, the company will likely go bankrupt before it breaks even. However, if the reverse is the case, the company will have an assurance of survival. \n",
    "\n",
    "The company has to establish this branch where it is accessible to its customers. This will in turn minimize the cost of advertisement to create awareness since the food company in order to minimize the cost of transpotation in addition to the example above. which neighborhood (in that borough) would be a better choice for the contractor to build the warehouse in that neighborhood. Finding the right neighborhood is our mission and our recommender system will provide this contractor with a sorted list of neighborhoods in which the first element of the list will be the best suggested neighborhood.\n",
    "\n",
    "## Part 2: Data We Need\n",
    "\n",
    "1- We require geo-locational information about East Toronto, which is a borough of choice and the neighborhoods in that borough. It will contain it's latitudes and longitudes. We will also utilize the postal codes that fall into that Borough.\n",
    "\n",
    "\n",
    "2- It will be needful to leverage  Foursquare to pull data on existing venues around East Toronto. This data will provide us with information on Latitudes, Longitudes, venues, category of the venue (Cafe, Coffee shop, Breakfast spot etc.) and even on whether the venue is popular or not. Since this data will be available for each venue, we can drill down as much as possible to obtain any other extra information we require so as to make the best recommendations to our client.\n",
    "\n",
    "*Here is a sample of data obtained from Foursquare:*\n",
    "\n",
    "[Neighborhood(s)] [Neighborhood Latitude] [Neighborhood Longitude] [Venue] [Venue Summary] [Venue Category] [Distance (meter)]\n",
    "\n",
    "[The Beaches] [43.676357] [-79.293031] [Glen Manor Ravine] [This spot is popular] [Trail] [500]\n",
    "\n",
    "We will utilize this data in building the recommender syatem for our client.\n"
   ]
  },
  {
   "cell_type": "code",
   "execution_count": null,
   "metadata": {},
   "outputs": [],
   "source": []
  }
 ],
 "metadata": {
  "kernelspec": {
   "display_name": "Python",
   "language": "python",
   "name": "conda-env-python-py"
  },
  "language_info": {
   "codemirror_mode": {
    "name": "ipython",
    "version": 3
   },
   "file_extension": ".py",
   "mimetype": "text/x-python",
   "name": "python",
   "nbconvert_exporter": "python",
   "pygments_lexer": "ipython3",
   "version": "3.6.10"
  }
 },
 "nbformat": 4,
 "nbformat_minor": 4
}
