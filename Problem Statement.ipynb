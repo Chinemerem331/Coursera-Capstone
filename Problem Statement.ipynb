{
 "cells": [
  {
   "cell_type": "code",
   "execution_count": 1,
   "metadata": {},
   "outputs": [
    {
     "ename": "SyntaxError",
     "evalue": "invalid syntax (<ipython-input-1-eb80ab755e15>, line 2)",
     "output_type": "error",
     "traceback": [
      "\u001b[0;36m  File \u001b[0;32m\"<ipython-input-1-eb80ab755e15>\"\u001b[0;36m, line \u001b[0;32m2\u001b[0m\n\u001b[0;31m    A fast food company wants to expand into East Toronto Canada. This restaurant intends to penetrate the region by leveraging the presence of existing Restaurants, Bakery, Breakfast Spot, Brewery and Café to gain customers. Since the restaurant is confident of deploying her unique selling points to  drive sales in addition to having the capability to prepare intercontinental dishes, she is confident on the chances of success if located in the right environment.\u001b[0m\n\u001b[0m         ^\u001b[0m\n\u001b[0;31mSyntaxError\u001b[0m\u001b[0;31m:\u001b[0m invalid syntax\n"
     ]
    }
   ],
   "source": [
    "### Problem Statement\n",
    "A fast food company wants to expand into East Toronto Canada. This restaurant intends to penetrate the region by leveraging the presence of existing Restaurants, Bakery, Breakfast Spot, Brewery and Café to gain customers. Since the restaurant is confident of deploying her unique selling points to  drive sales in addition to having the capability to prepare intercontinental dishes, she is confident on the chances of success if located in the right environment.\n",
    "\n",
    "Typically for a restaurant, early patronage from kick-off of business is almost all that is required to survive. For example, if the fast food is located in an environment with less concentration of exciting spots, it is less likely to have patronage for a period of time and because it has several liabilities to meet, including rent, the company will likely go bankrupt before it breaks even. However, if the reverse is the case, the company will have an assurance of survival. \n",
    "\n",
    "The company has to establish this branch where it is accessible to its customers. This will in turn minimize the cost of advertisement to create awareness since the food company in order to minimize the cost of transpotation in addition to the example above. which neighborhood (in that borough) would be a better choice for the contractor to build the warehouse in that neighborhood. Finding the right neighborhood is our mission and our recommender system will provide this contractor with a sorted list of neighborhoods in which the first element of the list will be the best suggested neighborhood.\n"
   ]
  },
  {
   "cell_type": "code",
   "execution_count": null,
   "metadata": {},
   "outputs": [],
   "source": []
  }
 ],
 "metadata": {
  "kernelspec": {
   "display_name": "Python",
   "language": "python",
   "name": "conda-env-python-py"
  },
  "language_info": {
   "codemirror_mode": {
    "name": "ipython",
    "version": 3
   },
   "file_extension": ".py",
   "mimetype": "text/x-python",
   "name": "python",
   "nbconvert_exporter": "python",
   "pygments_lexer": "ipython3",
   "version": "3.6.10"
  }
 },
 "nbformat": 4,
 "nbformat_minor": 4
}
